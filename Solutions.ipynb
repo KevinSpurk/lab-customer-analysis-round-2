{
 "cells": [
  {
   "cell_type": "markdown",
   "id": "2b3b5e71",
   "metadata": {},
   "source": [
    "# Lab-customer-analysis-round-2"
   ]
  },
  {
   "cell_type": "markdown",
   "id": "719d3791",
   "metadata": {},
   "source": [
    "For this lab, we will be using the `marketing_customer_analysis.csv` file that you can find in the `files_for_lab` folder. Check out the `files_for_lab/about.md` to get more information if you are using the Online Excel.\n",
    "\n",
    "**Note**: For the next labs we will be using the same data file. Please save the code, so that you can re-use it later in the labs following this lab."
   ]
  },
  {
   "cell_type": "code",
   "execution_count": null,
   "id": "ec3d9c59",
   "metadata": {},
   "outputs": [],
   "source": [
    "import pandas as pd"
   ]
  },
  {
   "cell_type": "markdown",
   "id": "093746c0",
   "metadata": {},
   "source": [
    "## 1. Show the dataframe shape.\n"
   ]
  },
  {
   "cell_type": "code",
   "execution_count": null,
   "id": "fdd7c4c6",
   "metadata": {},
   "outputs": [],
   "source": [
    "data = pd.read_csv('files_for_lab/csv_files/marketing_customer_analysis.csv', index_col=0)\n",
    "data.shape"
   ]
  },
  {
   "cell_type": "markdown",
   "id": "7f2ebd9e",
   "metadata": {},
   "source": [
    "## 2. Standardize header names.\n"
   ]
  },
  {
   "cell_type": "code",
   "execution_count": null,
   "id": "fab906ba",
   "metadata": {},
   "outputs": [],
   "source": [
    "data = data.rename(columns={'Customer':'id', 'EmploymentStatus':'employment_status'})\n",
    "data.columns = data.columns.str.lower().str.strip().str.replace(' ', '_')"
   ]
  },
  {
   "cell_type": "markdown",
   "id": "f1d1742f",
   "metadata": {},
   "source": [
    "## 3. Which columns are numerical?\n"
   ]
  },
  {
   "cell_type": "code",
   "execution_count": null,
   "id": "9359608b",
   "metadata": {},
   "outputs": [],
   "source": [
    "data.select_dtypes(include=['float', 'int']).dtypes"
   ]
  },
  {
   "cell_type": "markdown",
   "id": "e9b7add4",
   "metadata": {},
   "source": [
    "## 4. Which columns are categorical?\n"
   ]
  },
  {
   "cell_type": "code",
   "execution_count": null,
   "id": "7ff0a529",
   "metadata": {},
   "outputs": [],
   "source": [
    "data.select_dtypes(include=['object']).dtypes"
   ]
  },
  {
   "cell_type": "markdown",
   "id": "e7e4c203",
   "metadata": {},
   "source": [
    "## 5. Check and deal with `NaN` values.\n"
   ]
  },
  {
   "cell_type": "code",
   "execution_count": null,
   "id": "03b9f1df",
   "metadata": {},
   "outputs": [],
   "source": [
    "data.isnull().sum()"
   ]
  },
  {
   "cell_type": "code",
   "execution_count": null,
   "id": "17544f9d",
   "metadata": {},
   "outputs": [],
   "source": [
    "print(data['state'].value_counts())\n",
    "print(data['state'].mode())\n",
    "print(data['response'].value_counts())\n",
    "print(data['response'].mode())\n",
    "print(data['vehicle_class'].value_counts())\n",
    "print(data['vehicle_class'].mode())\n",
    "print(data['vehicle_size'].value_counts())\n",
    "print(data['vehicle_size'].mode())\n",
    "print(data['vehicle_type'].value_counts())\n",
    "print(data['vehicle_type'].mode())\n",
    "\n",
    "print(data['months_since_last_claim'].mean())\n",
    "print(data['months_since_last_claim'].median())\n",
    "print(data['number_of_open_complaints'].mean())\n",
    "print(data['number_of_open_complaints'].median())"
   ]
  },
  {
   "cell_type": "code",
   "execution_count": null,
   "id": "eab2d6c3",
   "metadata": {},
   "outputs": [],
   "source": [
    "#Repalcing NaN with the most common value in that column for categorical columns and median for numerical columns\n",
    "replace_dict = {\n",
    "    'id': '',\n",
    "    'state': 'California',\n",
    "    'customer_lifetime_value': '',\n",
    "    'response': 'No',\n",
    "    'coverage': '',\n",
    "    'education': '',\n",
    "    'effective_to_date': '',\n",
    "    'employment_status': '',\n",
    "    'gender': '',\n",
    "    'income': '',\n",
    "    'location_code': '',\n",
    "    'marital_status': '',\n",
    "    'monthly_premium_auto': '',\n",
    "    'months_since_last_claim': data['months_since_last_claim'].median(),\n",
    "    'months_since_policy_inception': '',\n",
    "    'number_of_open_complaints': data['number_of_open_complaints'].median(),\n",
    "    'number_of_policies': '',\n",
    "    'policy_type': '',\n",
    "    'policy': '',\n",
    "    'renew_offer_type': '',\n",
    "    'sales_channel': '',\n",
    "    'total_claim_amount': '',\n",
    "    'vehicle_class': 'Four-Door Car',\n",
    "    'vehicle_size': 'Medsize',\n",
    "    'vehicle_type': 'A',  \n",
    "}\n",
    "\n",
    "for column in data.columns:\n",
    "    data[column] = data[column].fillna(replace_dict[column])"
   ]
  },
  {
   "cell_type": "markdown",
   "id": "fdf20d1e",
   "metadata": {},
   "source": [
    "## 6. Datetime format - Extract the months from the dataset and store in a separate column. Then filter the data to show only the information for the first quarter , ie. January, February and March. _Hint_: If data from March does not exist, consider only January and February.\n"
   ]
  },
  {
   "cell_type": "code",
   "execution_count": null,
   "id": "6491557f",
   "metadata": {},
   "outputs": [],
   "source": [
    "data['effective_to_date'] = pd.to_datetime(data['effective_to_date'], errors='coerce')\n",
    "print(data.dtypes)\n",
    "print(data.isna().sum())"
   ]
  },
  {
   "cell_type": "code",
   "execution_count": null,
   "id": "6e5e568d",
   "metadata": {},
   "outputs": [],
   "source": [
    "data['effective_to_month'] = pd.DatetimeIndex(data['effective_to_date']).month"
   ]
  },
  {
   "cell_type": "code",
   "execution_count": null,
   "id": "076ace1d",
   "metadata": {},
   "outputs": [],
   "source": [
    "data[data['effective_to_month'] == 3]"
   ]
  },
  {
   "cell_type": "code",
   "execution_count": null,
   "id": "432e2926",
   "metadata": {},
   "outputs": [],
   "source": [
    "data[(data['effective_to_month'] >= 1) & (data['effective_to_month'] <= 2)]"
   ]
  },
  {
   "cell_type": "code",
   "execution_count": null,
   "id": "9565c244",
   "metadata": {},
   "outputs": [],
   "source": [
    "# Exporting for use in Lab 1.05\n",
    "data.to_csv('files_for_lab/csv_files/marketing_customer_analysis_clean.csv')"
   ]
  },
  {
   "cell_type": "markdown",
   "id": "ae487947",
   "metadata": {},
   "source": [
    "## 7. Put all the previously mentioned data transformations into a function."
   ]
  },
  {
   "cell_type": "code",
   "execution_count": null,
   "id": "91077c8a",
   "metadata": {},
   "outputs": [],
   "source": [
    "def clean_dfheaders(df):\n",
    "    df.rename(columns={'Customer':'id', 'EmploymentStatus':'employment_status'}, inplace=True)\n",
    "    df.columns = df.columns.str.lower().str.strip().str.replace(' ', '_')\n",
    "    return df\n",
    "# using the 2 operations together only works when removing the 'df=' infront of the first satemment. Why?\n",
    "# the first operation doesnt work at all in a function without the inplace parameter. Outside of a function it does work. Why?\n",
    "\n",
    "def clean_df(df):\n",
    "    replace_dict = {\n",
    "        'id': '',\n",
    "        'state': 'California',\n",
    "        'customer_lifetime_value': '',\n",
    "        'response': 'No',\n",
    "        'coverage': '',\n",
    "        'education': '',\n",
    "        'effective_to_date': '',\n",
    "        'employment_status': '',\n",
    "        'gender': '',\n",
    "        'income': '',\n",
    "        'location_code': '',\n",
    "        'marital_status': '',\n",
    "        'monthly_premium_auto': '',\n",
    "        'months_since_last_claim': df['months_since_last_claim'].median(),\n",
    "        'months_since_policy_inception': '',\n",
    "        'number_of_open_complaints': df['number_of_open_complaints'].median(),\n",
    "        'number_of_policies': '',\n",
    "        'policy_type': '',\n",
    "        'policy': '',\n",
    "        'renew_offer_type': '',\n",
    "        'sales_channel': '',\n",
    "        'total_claim_amount': '',\n",
    "        'vehicle_class': 'Four-Door Car',\n",
    "        'vehicle_size': 'Medsize',\n",
    "        'vehicle_type': 'A',  \n",
    "    }\n",
    "# replacing the value with a mode() expression, e.g. 'state': data['state'].mode() doesnt'work. why?\n",
    "    \n",
    "    for column in df.columns:\n",
    "        df[column] = df[column].fillna(replace_dict[column])\n",
    "        \n",
    "    df['effective_to_date'] = pd.to_datetime(df['effective_to_date'], errors='coerce')\n",
    "    df['effective_to_month'] = pd.DatetimeIndex(df['effective_to_date']).month\n",
    "        \n",
    "    return df"
   ]
  },
  {
   "cell_type": "code",
   "execution_count": null,
   "id": "904348c6",
   "metadata": {},
   "outputs": [],
   "source": [
    "clean_dfheaders(data)\n",
    "clean_df(data)\n",
    "\n",
    "data"
   ]
  },
  {
   "cell_type": "markdown",
   "id": "dc0659b4",
   "metadata": {},
   "source": [
    "## 8. BONUS "
   ]
  },
  {
   "cell_type": "markdown",
   "id": "2bd3e142",
   "metadata": {},
   "source": [
    "### 8.1. List Comprehensions"
   ]
  },
  {
   "cell_type": "markdown",
   "id": "523d8bc5",
   "metadata": {},
   "source": [
    "#### 8.1.1 Find the capital letters (and not white space) in the sentence 'The Quick Brown Fox Jumped Over The Lazy Dog'.\n"
   ]
  },
  {
   "cell_type": "code",
   "execution_count": null,
   "id": "8c13c77d",
   "metadata": {},
   "outputs": [],
   "source": [
    "sentence = 'The Quick Brown Fox Jumped Over The Lazy Dog'\n",
    "cap_letters = [letter for letter in sentence if letter.isupper() == True]\n",
    "print(cap_letters)"
   ]
  },
  {
   "cell_type": "markdown",
   "id": "a996e073",
   "metadata": {},
   "source": [
    "#### 8.1.2. Use a list comprehension to create a list with the same elements rounded to 2 decimal positions."
   ]
  },
  {
   "cell_type": "code",
   "execution_count": null,
   "id": "473e5407",
   "metadata": {},
   "outputs": [],
   "source": [
    "a = [\n",
    "    0.84062117, 0.48006452, 0.7876326 , 0.77109654,\n",
    "    0.44409793, 0.09014516, 0.81835917, 0.87645456,\n",
    "    0.7066597 , 0.09610873, 0.41247947, 0.57433389,\n",
    "    0.29960807, 0.42315023, 0.34452557, 0.4751035 ,\n",
    "    0.17003563, 0.46843998, 0.92796258, 0.69814654,\n",
    "    0.41290051, 0.19561071, 0.16284783, 0.97016248,\n",
    "    0.71725408, 0.87702738, 0.31244595, 0.76615487,\n",
    "    0.20754036, 0.57871812, 0.07214068, 0.40356048,\n",
    "    0.12149553, 0.53222417, 0.9976855 , 0.12536346,\n",
    "    0.80930099, 0.50962849, 0.94555126, 0.33364763\n",
    "]"
   ]
  },
  {
   "cell_type": "code",
   "execution_count": null,
   "id": "f1accb8a",
   "metadata": {},
   "outputs": [],
   "source": [
    "b = [round(float, 2) for float in a]\n",
    "print(b)"
   ]
  },
  {
   "cell_type": "markdown",
   "id": "d01cf94c",
   "metadata": {},
   "source": [
    "### 8.2. Lambdas"
   ]
  },
  {
   "cell_type": "markdown",
   "id": "fc18a6fd",
   "metadata": {},
   "source": [
    "#### 8.2.1. Using Lambda Expressions in List Comprehensions"
   ]
  },
  {
   "cell_type": "markdown",
   "id": "a1effada",
   "metadata": {},
   "source": [
    "In the following challenge, we will combine two lists using a lambda expression in a list comprehension.\n",
    "\n",
    "To do this, we will need to introduce the zip function. The zip function returns an iterator of tuples.\n",
    "\n",
    "The way zip function works with list has been shown below:"
   ]
  },
  {
   "cell_type": "code",
   "execution_count": null,
   "id": "189215f7",
   "metadata": {},
   "outputs": [],
   "source": []
  },
  {
   "cell_type": "markdown",
   "id": "00ab6fe7",
   "metadata": {},
   "source": [
    "In this exercise we will try to compare the elements on the same index in the two lists. We want to zip the two lists and then use a lambda expression to compare if: list1 element > list2 element"
   ]
  },
  {
   "cell_type": "code",
   "execution_count": null,
   "id": "fe33b605",
   "metadata": {},
   "outputs": [],
   "source": []
  }
 ],
 "metadata": {
  "kernelspec": {
   "display_name": "Python3Brew",
   "language": "python",
   "name": "python3brew"
  },
  "language_info": {
   "codemirror_mode": {
    "name": "ipython",
    "version": 3
   },
   "file_extension": ".py",
   "mimetype": "text/x-python",
   "name": "python",
   "nbconvert_exporter": "python",
   "pygments_lexer": "ipython3",
   "version": "3.9.4"
  }
 },
 "nbformat": 4,
 "nbformat_minor": 5
}
